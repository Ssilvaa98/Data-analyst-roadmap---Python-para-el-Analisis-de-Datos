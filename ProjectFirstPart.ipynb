{
  "cells": [
    {
      "cell_type": "markdown",
      "metadata": {
        "id": "TQtwsn3CYK4b"
      },
      "source": [
        "# Proyecto curso Python para el analisis de datos.\n",
        "\n",
        "## Samuel Emmanuel Silva Aguinaga.\n",
        "\n",
        "- Tema a escoger: [Viajes de Taxi en NYC](https://www.kaggle.com/datasets/anandaramg/taxi-trip-data-nyc)\n",
        "\n",
        "![Taxis](https://assets3.thrillist.com/v1/image/1438473/1200x600/scale;;webp=auto;jpeg_quality=85.jpg)\n",
        "\n",
        "A lo largo del analisis de estos datos, se observaran y estudiaran los viajes realizados a lo largo de los dias de los años 2009 y 2021; conocer a los dos proveedores de los servicios de taxis amarillos en New York, asi mismo su duracion, costo y distancia recorrida en millas, cantidad de pasajeros y cual de ellos tiene una mejor posicion en el mercado deacuerdo a sus servicios.\n",
        "\n",
        "La información proporcionada por el conjunto de datos permite mejorar el control y la supervisión, analizar áreas de mejora y comparar tarifas de los proveedores. Esto facilita identificar las áreas de mayor demanda y establecer tarifas que beneficien a ambas partes.\n",
        "\n",
        "Aunque el conjunto de datos no proporciona áreas geográficas específicas definidas por longitud y latitud, las zonas en las que operan los proveedores se identificarán mediante un ID. Con esta información, será posible determinar la ubicación de cada proveedor y las áreas con mayor recogida y descenso de pasajeros.\n",
        "\n",
        "Analizar el tipo de pago mas comun y/o preferido por los clientes, asi se podra saber que cantidad de efectivo es recomendable que el conductor maneje para evitar un robo; poder tener promociones por uso de tarjeta tambien puede ser mas comodo y atractivo a los clientes.\n",
        "\n",
        "El código de tarifa final en efecto al final del viaje se representa con un valor numérico que indica el tipo de tarifa aplicada. Los valores son los siguientes: 1 para tarifa estándar, 2 para JFK, 3 para Newark, 4 para Nassau o Westchester, 5 para tarifa negociada, y 6 para viaje grupal. Este código permite identificar de manera precisa la estructura tarifaria utilizada al concluir cada trayecto.\n",
        "\n",
        "Por efectos de obtener un mejor control sobre los viajes, generalmente el taximetro necesita conexion a servidores, y es por ello que en algunos datos del dataset podemos obtener el no almacenamiento de la distancia de algunos viajes, asi mismo, el no oportuno calculo de algunos impuestos como MTA o\n",
        "recargo por mejora.\n",
        "\n",
        "Es bien sabido que en ciudades grandes y congestionadas el uso de peajes es comun cada vez mas, es por ello que este dataset tambien toma en cuenta los peajes usados y su costo total para el total a pagar del pasajero, asi mismo si la recogida del pasajero se efectua en el aeropuerto.\n",
        "\n",
        "![Airport](https://www.directoriocubano.info/wp-content/uploads/2023/12/sube-el-precio-del-peaje-en-nueva-york-cuanto-y-qu-scaled.jpg)\n",
        "\n",
        "## Numero de observaciones y atributos.\n",
        "\n",
        "- 83691 Filas u Observaciones.\n",
        "- 20 Columnas o Atributos.\n",
        "\n",
        "## Contiene atributos geográficos o temporales?\n",
        "\n",
        "- El conjunto de datos no contiene información geográfica puntual como longitud y latitud. Sin embargo, incluye ID's (PULocationID y DOLocationID) que permiten identificar los puntos específicos donde los taxistas de cualquiera de los proveedores se encontraban al recoger y dejar a los pasajeros.\n",
        "\n",
        "- Como atributos temporales, el conjunto de datos proporciona una amplia gama de información, incluyendo la fecha exacta y hora de cada recogida y entrega de pasajeros, la distancia recorrida en millas, el costo total del viaje, el método de pago y más.\n",
        "\n",
        "## ¿Qué preguntas le gustaría responder durante el análisis?\n",
        "\n",
        "- De todos los viajes realizados, cual es el que tiene la mayor duracion?\n",
        "\n",
        "- Que distancia recorrida por los taxis es la media, por vendor ID?\n",
        "\n",
        "- Que proveedor realizo mas viajes?\n",
        "\n",
        "- Cual es el valor total en propinas?\n",
        "\n",
        "- Que tipo de pago es el mas utilizado?\n",
        "\n",
        "- Cual es la media de pasajeros por viaje?\n",
        "\n",
        "## ¿Qué tipos de visualización o análisis le gustaría generar?\n",
        "\n",
        "- Gráficos de barras.\n",
        "- Pies"
      ]
    },
    {
      "cell_type": "markdown",
      "metadata": {},
      "source": [
        "### Importando librerias necesarias para el EDA (Exploratory Data Analysis)\n",
        "#### - Pandas para manipulacion y analisis de datos, uso de dataframes y series.\n",
        "#### - Numpy para calculos matematicos."
      ]
    },
    {
      "cell_type": "code",
      "execution_count": 1,
      "metadata": {},
      "outputs": [],
      "source": [
        "import pandas as pd\n",
        "import numpy as np\n",
        "import matplotlib.pyplot as plt\n",
        "import tensorflow as tf"
      ]
    },
    {
      "cell_type": "markdown",
      "metadata": {},
      "source": [
        "#### Ingreso de datos de excel tipo CSV.\n",
        "##### - Uso de la libreria de pandas, el read_csv para poder leer el formato mismo de excel; asi mismo uso de shape para conocer el numero de columnas y filas contenidas en el archivo a analizar."
      ]
    },
    {
      "cell_type": "code",
      "execution_count": 2,
      "metadata": {},
      "outputs": [
        {
          "name": "stderr",
          "output_type": "stream",
          "text": [
            "C:\\Users\\samue\\AppData\\Local\\Temp\\ipykernel_27452\\436204291.py:1: DtypeWarning: Columns (3) have mixed types. Specify dtype option on import or set low_memory=False.\n",
            "  taxi_data = pd.read_csv(\"taxi_tripdata.csv\")\n"
          ]
        },
        {
          "data": {
            "text/plain": [
              "(83691, 20)"
            ]
          },
          "execution_count": 2,
          "metadata": {},
          "output_type": "execute_result"
        }
      ],
      "source": [
        "taxi_data = pd.read_csv(\"taxi_tripdata.csv\")\n",
        "taxi_data.shape"
      ]
    },
    {
      "cell_type": "markdown",
      "metadata": {},
      "source": [
        "##### - Observamos que contiene 20 Columnas y 83,691 filas.\n",
        "##### - En la columna numero 3, hay datos de tipos distintos, para arreglar esto, vamos a establecer que los datos de esta columna van a ser tipo string."
      ]
    },
    {
      "cell_type": "code",
      "execution_count": 3,
      "metadata": {},
      "outputs": [],
      "source": [
        "column_types = {3: \"str\"}\n",
        "taxi_data = pd.read_csv(\"taxi_tripdata.csv\", dtype=column_types)"
      ]
    },
    {
      "cell_type": "markdown",
      "metadata": {},
      "source": [
        "##### - Describe, asi obtendremos una vista general de la cantidad de datos por columnas, su valor medio, minimo, maximo."
      ]
    },
    {
      "cell_type": "code",
      "execution_count": 4,
      "metadata": {},
      "outputs": [
        {
          "data": {
            "text/html": [
              "<div>\n",
              "<style scoped>\n",
              "    .dataframe tbody tr th:only-of-type {\n",
              "        vertical-align: middle;\n",
              "    }\n",
              "\n",
              "    .dataframe tbody tr th {\n",
              "        vertical-align: top;\n",
              "    }\n",
              "\n",
              "    .dataframe thead th {\n",
              "        text-align: right;\n",
              "    }\n",
              "</style>\n",
              "<table border=\"1\" class=\"dataframe\">\n",
              "  <thead>\n",
              "    <tr style=\"text-align: right;\">\n",
              "      <th></th>\n",
              "      <th>VendorID</th>\n",
              "      <th>RatecodeID</th>\n",
              "      <th>PULocationID</th>\n",
              "      <th>DOLocationID</th>\n",
              "      <th>passenger_count</th>\n",
              "      <th>trip_distance</th>\n",
              "      <th>fare_amount</th>\n",
              "      <th>extra</th>\n",
              "      <th>mta_tax</th>\n",
              "      <th>tip_amount</th>\n",
              "      <th>tolls_amount</th>\n",
              "      <th>ehail_fee</th>\n",
              "      <th>improvement_surcharge</th>\n",
              "      <th>total_amount</th>\n",
              "      <th>payment_type</th>\n",
              "      <th>trip_type</th>\n",
              "      <th>congestion_surcharge</th>\n",
              "    </tr>\n",
              "  </thead>\n",
              "  <tbody>\n",
              "    <tr>\n",
              "      <th>count</th>\n",
              "      <td>51173.000000</td>\n",
              "      <td>51173.000000</td>\n",
              "      <td>83691.000000</td>\n",
              "      <td>83691.000000</td>\n",
              "      <td>51173.000000</td>\n",
              "      <td>83691.000000</td>\n",
              "      <td>83691.000000</td>\n",
              "      <td>83691.000000</td>\n",
              "      <td>83691.000000</td>\n",
              "      <td>83691.000000</td>\n",
              "      <td>83691.000000</td>\n",
              "      <td>0.0</td>\n",
              "      <td>83691.000000</td>\n",
              "      <td>83691.000000</td>\n",
              "      <td>51173.000000</td>\n",
              "      <td>51173.000000</td>\n",
              "      <td>51173.000000</td>\n",
              "    </tr>\n",
              "    <tr>\n",
              "      <th>mean</th>\n",
              "      <td>1.851113</td>\n",
              "      <td>1.159244</td>\n",
              "      <td>108.362572</td>\n",
              "      <td>133.270005</td>\n",
              "      <td>1.307858</td>\n",
              "      <td>194.354699</td>\n",
              "      <td>20.388305</td>\n",
              "      <td>1.156707</td>\n",
              "      <td>0.293562</td>\n",
              "      <td>1.058618</td>\n",
              "      <td>0.624529</td>\n",
              "      <td>NaN</td>\n",
              "      <td>0.297745</td>\n",
              "      <td>24.204836</td>\n",
              "      <td>1.421726</td>\n",
              "      <td>1.034393</td>\n",
              "      <td>0.642815</td>\n",
              "    </tr>\n",
              "    <tr>\n",
              "      <th>std</th>\n",
              "      <td>0.355981</td>\n",
              "      <td>0.773260</td>\n",
              "      <td>70.370170</td>\n",
              "      <td>77.216791</td>\n",
              "      <td>0.984362</td>\n",
              "      <td>4405.549221</td>\n",
              "      <td>15.583552</td>\n",
              "      <td>1.367897</td>\n",
              "      <td>0.247773</td>\n",
              "      <td>2.368771</td>\n",
              "      <td>1.990481</td>\n",
              "      <td>NaN</td>\n",
              "      <td>0.031219</td>\n",
              "      <td>17.262183</td>\n",
              "      <td>0.511146</td>\n",
              "      <td>0.182239</td>\n",
              "      <td>1.164219</td>\n",
              "    </tr>\n",
              "    <tr>\n",
              "      <th>min</th>\n",
              "      <td>1.000000</td>\n",
              "      <td>1.000000</td>\n",
              "      <td>3.000000</td>\n",
              "      <td>1.000000</td>\n",
              "      <td>0.000000</td>\n",
              "      <td>0.000000</td>\n",
              "      <td>-150.000000</td>\n",
              "      <td>-4.500000</td>\n",
              "      <td>-0.500000</td>\n",
              "      <td>-1.140000</td>\n",
              "      <td>0.000000</td>\n",
              "      <td>NaN</td>\n",
              "      <td>-0.300000</td>\n",
              "      <td>-150.300000</td>\n",
              "      <td>1.000000</td>\n",
              "      <td>1.000000</td>\n",
              "      <td>-2.750000</td>\n",
              "    </tr>\n",
              "    <tr>\n",
              "      <th>25%</th>\n",
              "      <td>2.000000</td>\n",
              "      <td>1.000000</td>\n",
              "      <td>56.000000</td>\n",
              "      <td>69.000000</td>\n",
              "      <td>1.000000</td>\n",
              "      <td>1.350000</td>\n",
              "      <td>9.000000</td>\n",
              "      <td>0.000000</td>\n",
              "      <td>0.000000</td>\n",
              "      <td>0.000000</td>\n",
              "      <td>0.000000</td>\n",
              "      <td>NaN</td>\n",
              "      <td>0.300000</td>\n",
              "      <td>11.760000</td>\n",
              "      <td>1.000000</td>\n",
              "      <td>1.000000</td>\n",
              "      <td>0.000000</td>\n",
              "    </tr>\n",
              "    <tr>\n",
              "      <th>50%</th>\n",
              "      <td>2.000000</td>\n",
              "      <td>1.000000</td>\n",
              "      <td>75.000000</td>\n",
              "      <td>132.000000</td>\n",
              "      <td>1.000000</td>\n",
              "      <td>2.760000</td>\n",
              "      <td>16.000000</td>\n",
              "      <td>0.500000</td>\n",
              "      <td>0.500000</td>\n",
              "      <td>0.000000</td>\n",
              "      <td>0.000000</td>\n",
              "      <td>NaN</td>\n",
              "      <td>0.300000</td>\n",
              "      <td>19.800000</td>\n",
              "      <td>1.000000</td>\n",
              "      <td>1.000000</td>\n",
              "      <td>0.000000</td>\n",
              "    </tr>\n",
              "    <tr>\n",
              "      <th>75%</th>\n",
              "      <td>2.000000</td>\n",
              "      <td>1.000000</td>\n",
              "      <td>166.000000</td>\n",
              "      <td>205.000000</td>\n",
              "      <td>1.000000</td>\n",
              "      <td>6.200000</td>\n",
              "      <td>26.830000</td>\n",
              "      <td>2.750000</td>\n",
              "      <td>0.500000</td>\n",
              "      <td>1.660000</td>\n",
              "      <td>0.000000</td>\n",
              "      <td>NaN</td>\n",
              "      <td>0.300000</td>\n",
              "      <td>31.300000</td>\n",
              "      <td>2.000000</td>\n",
              "      <td>1.000000</td>\n",
              "      <td>0.000000</td>\n",
              "    </tr>\n",
              "    <tr>\n",
              "      <th>max</th>\n",
              "      <td>2.000000</td>\n",
              "      <td>5.000000</td>\n",
              "      <td>265.000000</td>\n",
              "      <td>265.000000</td>\n",
              "      <td>32.000000</td>\n",
              "      <td>260517.930000</td>\n",
              "      <td>480.000000</td>\n",
              "      <td>8.250000</td>\n",
              "      <td>0.500000</td>\n",
              "      <td>87.710000</td>\n",
              "      <td>30.050000</td>\n",
              "      <td>NaN</td>\n",
              "      <td>0.300000</td>\n",
              "      <td>480.310000</td>\n",
              "      <td>5.000000</td>\n",
              "      <td>2.000000</td>\n",
              "      <td>2.750000</td>\n",
              "    </tr>\n",
              "  </tbody>\n",
              "</table>\n",
              "</div>"
            ],
            "text/plain": [
              "           VendorID    RatecodeID  PULocationID  DOLocationID  \\\n",
              "count  51173.000000  51173.000000  83691.000000  83691.000000   \n",
              "mean       1.851113      1.159244    108.362572    133.270005   \n",
              "std        0.355981      0.773260     70.370170     77.216791   \n",
              "min        1.000000      1.000000      3.000000      1.000000   \n",
              "25%        2.000000      1.000000     56.000000     69.000000   \n",
              "50%        2.000000      1.000000     75.000000    132.000000   \n",
              "75%        2.000000      1.000000    166.000000    205.000000   \n",
              "max        2.000000      5.000000    265.000000    265.000000   \n",
              "\n",
              "       passenger_count  trip_distance   fare_amount         extra  \\\n",
              "count     51173.000000   83691.000000  83691.000000  83691.000000   \n",
              "mean          1.307858     194.354699     20.388305      1.156707   \n",
              "std           0.984362    4405.549221     15.583552      1.367897   \n",
              "min           0.000000       0.000000   -150.000000     -4.500000   \n",
              "25%           1.000000       1.350000      9.000000      0.000000   \n",
              "50%           1.000000       2.760000     16.000000      0.500000   \n",
              "75%           1.000000       6.200000     26.830000      2.750000   \n",
              "max          32.000000  260517.930000    480.000000      8.250000   \n",
              "\n",
              "            mta_tax    tip_amount  tolls_amount  ehail_fee  \\\n",
              "count  83691.000000  83691.000000  83691.000000        0.0   \n",
              "mean       0.293562      1.058618      0.624529        NaN   \n",
              "std        0.247773      2.368771      1.990481        NaN   \n",
              "min       -0.500000     -1.140000      0.000000        NaN   \n",
              "25%        0.000000      0.000000      0.000000        NaN   \n",
              "50%        0.500000      0.000000      0.000000        NaN   \n",
              "75%        0.500000      1.660000      0.000000        NaN   \n",
              "max        0.500000     87.710000     30.050000        NaN   \n",
              "\n",
              "       improvement_surcharge  total_amount  payment_type     trip_type  \\\n",
              "count           83691.000000  83691.000000  51173.000000  51173.000000   \n",
              "mean                0.297745     24.204836      1.421726      1.034393   \n",
              "std                 0.031219     17.262183      0.511146      0.182239   \n",
              "min                -0.300000   -150.300000      1.000000      1.000000   \n",
              "25%                 0.300000     11.760000      1.000000      1.000000   \n",
              "50%                 0.300000     19.800000      1.000000      1.000000   \n",
              "75%                 0.300000     31.300000      2.000000      1.000000   \n",
              "max                 0.300000    480.310000      5.000000      2.000000   \n",
              "\n",
              "       congestion_surcharge  \n",
              "count          51173.000000  \n",
              "mean               0.642815  \n",
              "std                1.164219  \n",
              "min               -2.750000  \n",
              "25%                0.000000  \n",
              "50%                0.000000  \n",
              "75%                0.000000  \n",
              "max                2.750000  "
            ]
          },
          "execution_count": 4,
          "metadata": {},
          "output_type": "execute_result"
        }
      ],
      "source": [
        "taxi_data.describe()"
      ]
    },
    {
      "cell_type": "markdown",
      "metadata": {},
      "source": [
        "##### - Uso de head para conocer los valores de las primeras cinco filas."
      ]
    },
    {
      "cell_type": "code",
      "execution_count": 5,
      "metadata": {},
      "outputs": [
        {
          "data": {
            "text/html": [
              "<div>\n",
              "<style scoped>\n",
              "    .dataframe tbody tr th:only-of-type {\n",
              "        vertical-align: middle;\n",
              "    }\n",
              "\n",
              "    .dataframe tbody tr th {\n",
              "        vertical-align: top;\n",
              "    }\n",
              "\n",
              "    .dataframe thead th {\n",
              "        text-align: right;\n",
              "    }\n",
              "</style>\n",
              "<table border=\"1\" class=\"dataframe\">\n",
              "  <thead>\n",
              "    <tr style=\"text-align: right;\">\n",
              "      <th></th>\n",
              "      <th>VendorID</th>\n",
              "      <th>lpep_pickup_datetime</th>\n",
              "      <th>lpep_dropoff_datetime</th>\n",
              "      <th>store_and_fwd_flag</th>\n",
              "      <th>RatecodeID</th>\n",
              "      <th>PULocationID</th>\n",
              "      <th>DOLocationID</th>\n",
              "      <th>passenger_count</th>\n",
              "      <th>trip_distance</th>\n",
              "      <th>fare_amount</th>\n",
              "      <th>extra</th>\n",
              "      <th>mta_tax</th>\n",
              "      <th>tip_amount</th>\n",
              "      <th>tolls_amount</th>\n",
              "      <th>ehail_fee</th>\n",
              "      <th>improvement_surcharge</th>\n",
              "      <th>total_amount</th>\n",
              "      <th>payment_type</th>\n",
              "      <th>trip_type</th>\n",
              "      <th>congestion_surcharge</th>\n",
              "    </tr>\n",
              "  </thead>\n",
              "  <tbody>\n",
              "    <tr>\n",
              "      <th>0</th>\n",
              "      <td>1.0</td>\n",
              "      <td>7/1/2021 0:30</td>\n",
              "      <td>7/1/2021 0:35</td>\n",
              "      <td>N</td>\n",
              "      <td>1.0</td>\n",
              "      <td>74</td>\n",
              "      <td>168</td>\n",
              "      <td>1.0</td>\n",
              "      <td>1.20</td>\n",
              "      <td>6.0</td>\n",
              "      <td>0.5</td>\n",
              "      <td>0.5</td>\n",
              "      <td>0.00</td>\n",
              "      <td>0.0</td>\n",
              "      <td>NaN</td>\n",
              "      <td>0.3</td>\n",
              "      <td>7.30</td>\n",
              "      <td>2.0</td>\n",
              "      <td>1.0</td>\n",
              "      <td>0.0</td>\n",
              "    </tr>\n",
              "    <tr>\n",
              "      <th>1</th>\n",
              "      <td>2.0</td>\n",
              "      <td>7/1/2021 0:25</td>\n",
              "      <td>7/1/2021 1:01</td>\n",
              "      <td>N</td>\n",
              "      <td>1.0</td>\n",
              "      <td>116</td>\n",
              "      <td>265</td>\n",
              "      <td>2.0</td>\n",
              "      <td>13.69</td>\n",
              "      <td>42.0</td>\n",
              "      <td>0.5</td>\n",
              "      <td>0.5</td>\n",
              "      <td>0.00</td>\n",
              "      <td>0.0</td>\n",
              "      <td>NaN</td>\n",
              "      <td>0.3</td>\n",
              "      <td>43.30</td>\n",
              "      <td>2.0</td>\n",
              "      <td>1.0</td>\n",
              "      <td>0.0</td>\n",
              "    </tr>\n",
              "    <tr>\n",
              "      <th>2</th>\n",
              "      <td>2.0</td>\n",
              "      <td>7/1/2021 0:05</td>\n",
              "      <td>7/1/2021 0:12</td>\n",
              "      <td>N</td>\n",
              "      <td>1.0</td>\n",
              "      <td>97</td>\n",
              "      <td>33</td>\n",
              "      <td>1.0</td>\n",
              "      <td>0.95</td>\n",
              "      <td>6.5</td>\n",
              "      <td>0.5</td>\n",
              "      <td>0.5</td>\n",
              "      <td>2.34</td>\n",
              "      <td>0.0</td>\n",
              "      <td>NaN</td>\n",
              "      <td>0.3</td>\n",
              "      <td>10.14</td>\n",
              "      <td>1.0</td>\n",
              "      <td>1.0</td>\n",
              "      <td>0.0</td>\n",
              "    </tr>\n",
              "    <tr>\n",
              "      <th>3</th>\n",
              "      <td>2.0</td>\n",
              "      <td>7/1/2021 0:41</td>\n",
              "      <td>7/1/2021 0:47</td>\n",
              "      <td>N</td>\n",
              "      <td>1.0</td>\n",
              "      <td>74</td>\n",
              "      <td>42</td>\n",
              "      <td>1.0</td>\n",
              "      <td>1.24</td>\n",
              "      <td>6.5</td>\n",
              "      <td>0.5</td>\n",
              "      <td>0.5</td>\n",
              "      <td>0.00</td>\n",
              "      <td>0.0</td>\n",
              "      <td>NaN</td>\n",
              "      <td>0.3</td>\n",
              "      <td>7.80</td>\n",
              "      <td>2.0</td>\n",
              "      <td>1.0</td>\n",
              "      <td>0.0</td>\n",
              "    </tr>\n",
              "    <tr>\n",
              "      <th>4</th>\n",
              "      <td>2.0</td>\n",
              "      <td>7/1/2021 0:51</td>\n",
              "      <td>7/1/2021 0:58</td>\n",
              "      <td>N</td>\n",
              "      <td>1.0</td>\n",
              "      <td>42</td>\n",
              "      <td>244</td>\n",
              "      <td>1.0</td>\n",
              "      <td>1.10</td>\n",
              "      <td>7.0</td>\n",
              "      <td>0.5</td>\n",
              "      <td>0.5</td>\n",
              "      <td>0.00</td>\n",
              "      <td>0.0</td>\n",
              "      <td>NaN</td>\n",
              "      <td>0.3</td>\n",
              "      <td>8.30</td>\n",
              "      <td>2.0</td>\n",
              "      <td>1.0</td>\n",
              "      <td>0.0</td>\n",
              "    </tr>\n",
              "  </tbody>\n",
              "</table>\n",
              "</div>"
            ],
            "text/plain": [
              "   VendorID lpep_pickup_datetime lpep_dropoff_datetime store_and_fwd_flag  \\\n",
              "0       1.0        7/1/2021 0:30         7/1/2021 0:35                  N   \n",
              "1       2.0        7/1/2021 0:25         7/1/2021 1:01                  N   \n",
              "2       2.0        7/1/2021 0:05         7/1/2021 0:12                  N   \n",
              "3       2.0        7/1/2021 0:41         7/1/2021 0:47                  N   \n",
              "4       2.0        7/1/2021 0:51         7/1/2021 0:58                  N   \n",
              "\n",
              "   RatecodeID  PULocationID  DOLocationID  passenger_count  trip_distance  \\\n",
              "0         1.0            74           168              1.0           1.20   \n",
              "1         1.0           116           265              2.0          13.69   \n",
              "2         1.0            97            33              1.0           0.95   \n",
              "3         1.0            74            42              1.0           1.24   \n",
              "4         1.0            42           244              1.0           1.10   \n",
              "\n",
              "   fare_amount  extra  mta_tax  tip_amount  tolls_amount  ehail_fee  \\\n",
              "0          6.0    0.5      0.5        0.00           0.0        NaN   \n",
              "1         42.0    0.5      0.5        0.00           0.0        NaN   \n",
              "2          6.5    0.5      0.5        2.34           0.0        NaN   \n",
              "3          6.5    0.5      0.5        0.00           0.0        NaN   \n",
              "4          7.0    0.5      0.5        0.00           0.0        NaN   \n",
              "\n",
              "   improvement_surcharge  total_amount  payment_type  trip_type  \\\n",
              "0                    0.3          7.30           2.0        1.0   \n",
              "1                    0.3         43.30           2.0        1.0   \n",
              "2                    0.3         10.14           1.0        1.0   \n",
              "3                    0.3          7.80           2.0        1.0   \n",
              "4                    0.3          8.30           2.0        1.0   \n",
              "\n",
              "   congestion_surcharge  \n",
              "0                   0.0  \n",
              "1                   0.0  \n",
              "2                   0.0  \n",
              "3                   0.0  \n",
              "4                   0.0  "
            ]
          },
          "execution_count": 5,
          "metadata": {},
          "output_type": "execute_result"
        }
      ],
      "source": [
        "taxi_data.head()"
      ]
    },
    {
      "cell_type": "markdown",
      "metadata": {},
      "source": [
        "##### - Uso de tail para conocer los valores de las ultimas cinco filas."
      ]
    },
    {
      "cell_type": "code",
      "execution_count": 6,
      "metadata": {},
      "outputs": [
        {
          "data": {
            "text/html": [
              "<div>\n",
              "<style scoped>\n",
              "    .dataframe tbody tr th:only-of-type {\n",
              "        vertical-align: middle;\n",
              "    }\n",
              "\n",
              "    .dataframe tbody tr th {\n",
              "        vertical-align: top;\n",
              "    }\n",
              "\n",
              "    .dataframe thead th {\n",
              "        text-align: right;\n",
              "    }\n",
              "</style>\n",
              "<table border=\"1\" class=\"dataframe\">\n",
              "  <thead>\n",
              "    <tr style=\"text-align: right;\">\n",
              "      <th></th>\n",
              "      <th>VendorID</th>\n",
              "      <th>lpep_pickup_datetime</th>\n",
              "      <th>lpep_dropoff_datetime</th>\n",
              "      <th>store_and_fwd_flag</th>\n",
              "      <th>RatecodeID</th>\n",
              "      <th>PULocationID</th>\n",
              "      <th>DOLocationID</th>\n",
              "      <th>passenger_count</th>\n",
              "      <th>trip_distance</th>\n",
              "      <th>fare_amount</th>\n",
              "      <th>extra</th>\n",
              "      <th>mta_tax</th>\n",
              "      <th>tip_amount</th>\n",
              "      <th>tolls_amount</th>\n",
              "      <th>ehail_fee</th>\n",
              "      <th>improvement_surcharge</th>\n",
              "      <th>total_amount</th>\n",
              "      <th>payment_type</th>\n",
              "      <th>trip_type</th>\n",
              "      <th>congestion_surcharge</th>\n",
              "    </tr>\n",
              "  </thead>\n",
              "  <tbody>\n",
              "    <tr>\n",
              "      <th>83686</th>\n",
              "      <td>NaN</td>\n",
              "      <td>7/2/2021 7:59</td>\n",
              "      <td>7/2/2021 8:33</td>\n",
              "      <td>NaN</td>\n",
              "      <td>NaN</td>\n",
              "      <td>218</td>\n",
              "      <td>169</td>\n",
              "      <td>NaN</td>\n",
              "      <td>18.04</td>\n",
              "      <td>50.24</td>\n",
              "      <td>2.75</td>\n",
              "      <td>0.0</td>\n",
              "      <td>0.00</td>\n",
              "      <td>6.55</td>\n",
              "      <td>NaN</td>\n",
              "      <td>0.3</td>\n",
              "      <td>59.84</td>\n",
              "      <td>NaN</td>\n",
              "      <td>NaN</td>\n",
              "      <td>NaN</td>\n",
              "    </tr>\n",
              "    <tr>\n",
              "      <th>83687</th>\n",
              "      <td>NaN</td>\n",
              "      <td>7/2/2021 7:02</td>\n",
              "      <td>7/2/2021 7:18</td>\n",
              "      <td>NaN</td>\n",
              "      <td>NaN</td>\n",
              "      <td>74</td>\n",
              "      <td>137</td>\n",
              "      <td>NaN</td>\n",
              "      <td>5.56</td>\n",
              "      <td>19.16</td>\n",
              "      <td>0.00</td>\n",
              "      <td>0.0</td>\n",
              "      <td>3.66</td>\n",
              "      <td>0.00</td>\n",
              "      <td>NaN</td>\n",
              "      <td>0.3</td>\n",
              "      <td>25.87</td>\n",
              "      <td>NaN</td>\n",
              "      <td>NaN</td>\n",
              "      <td>NaN</td>\n",
              "    </tr>\n",
              "    <tr>\n",
              "      <th>83688</th>\n",
              "      <td>NaN</td>\n",
              "      <td>7/2/2021 7:53</td>\n",
              "      <td>7/2/2021 8:15</td>\n",
              "      <td>NaN</td>\n",
              "      <td>NaN</td>\n",
              "      <td>69</td>\n",
              "      <td>75</td>\n",
              "      <td>NaN</td>\n",
              "      <td>5.13</td>\n",
              "      <td>22.45</td>\n",
              "      <td>0.00</td>\n",
              "      <td>0.0</td>\n",
              "      <td>0.00</td>\n",
              "      <td>0.00</td>\n",
              "      <td>NaN</td>\n",
              "      <td>0.3</td>\n",
              "      <td>22.75</td>\n",
              "      <td>NaN</td>\n",
              "      <td>NaN</td>\n",
              "      <td>NaN</td>\n",
              "    </tr>\n",
              "    <tr>\n",
              "      <th>83689</th>\n",
              "      <td>NaN</td>\n",
              "      <td>7/2/2021 7:58</td>\n",
              "      <td>7/2/2021 8:30</td>\n",
              "      <td>NaN</td>\n",
              "      <td>NaN</td>\n",
              "      <td>117</td>\n",
              "      <td>82</td>\n",
              "      <td>NaN</td>\n",
              "      <td>12.58</td>\n",
              "      <td>48.62</td>\n",
              "      <td>2.75</td>\n",
              "      <td>0.0</td>\n",
              "      <td>0.00</td>\n",
              "      <td>2.45</td>\n",
              "      <td>NaN</td>\n",
              "      <td>0.3</td>\n",
              "      <td>54.12</td>\n",
              "      <td>NaN</td>\n",
              "      <td>NaN</td>\n",
              "      <td>NaN</td>\n",
              "    </tr>\n",
              "    <tr>\n",
              "      <th>83690</th>\n",
              "      <td>NaN</td>\n",
              "      <td>7/2/2021 7:00</td>\n",
              "      <td>7/2/2021 7:26</td>\n",
              "      <td>NaN</td>\n",
              "      <td>NaN</td>\n",
              "      <td>218</td>\n",
              "      <td>196</td>\n",
              "      <td>NaN</td>\n",
              "      <td>11.32</td>\n",
              "      <td>45.84</td>\n",
              "      <td>2.75</td>\n",
              "      <td>0.0</td>\n",
              "      <td>0.00</td>\n",
              "      <td>0.00</td>\n",
              "      <td>NaN</td>\n",
              "      <td>0.3</td>\n",
              "      <td>48.89</td>\n",
              "      <td>NaN</td>\n",
              "      <td>NaN</td>\n",
              "      <td>NaN</td>\n",
              "    </tr>\n",
              "  </tbody>\n",
              "</table>\n",
              "</div>"
            ],
            "text/plain": [
              "       VendorID lpep_pickup_datetime lpep_dropoff_datetime store_and_fwd_flag  \\\n",
              "83686       NaN        7/2/2021 7:59         7/2/2021 8:33                NaN   \n",
              "83687       NaN        7/2/2021 7:02         7/2/2021 7:18                NaN   \n",
              "83688       NaN        7/2/2021 7:53         7/2/2021 8:15                NaN   \n",
              "83689       NaN        7/2/2021 7:58         7/2/2021 8:30                NaN   \n",
              "83690       NaN        7/2/2021 7:00         7/2/2021 7:26                NaN   \n",
              "\n",
              "       RatecodeID  PULocationID  DOLocationID  passenger_count  trip_distance  \\\n",
              "83686         NaN           218           169              NaN          18.04   \n",
              "83687         NaN            74           137              NaN           5.56   \n",
              "83688         NaN            69            75              NaN           5.13   \n",
              "83689         NaN           117            82              NaN          12.58   \n",
              "83690         NaN           218           196              NaN          11.32   \n",
              "\n",
              "       fare_amount  extra  mta_tax  tip_amount  tolls_amount  ehail_fee  \\\n",
              "83686        50.24   2.75      0.0        0.00          6.55        NaN   \n",
              "83687        19.16   0.00      0.0        3.66          0.00        NaN   \n",
              "83688        22.45   0.00      0.0        0.00          0.00        NaN   \n",
              "83689        48.62   2.75      0.0        0.00          2.45        NaN   \n",
              "83690        45.84   2.75      0.0        0.00          0.00        NaN   \n",
              "\n",
              "       improvement_surcharge  total_amount  payment_type  trip_type  \\\n",
              "83686                    0.3         59.84           NaN        NaN   \n",
              "83687                    0.3         25.87           NaN        NaN   \n",
              "83688                    0.3         22.75           NaN        NaN   \n",
              "83689                    0.3         54.12           NaN        NaN   \n",
              "83690                    0.3         48.89           NaN        NaN   \n",
              "\n",
              "       congestion_surcharge  \n",
              "83686                   NaN  \n",
              "83687                   NaN  \n",
              "83688                   NaN  \n",
              "83689                   NaN  \n",
              "83690                   NaN  "
            ]
          },
          "execution_count": 6,
          "metadata": {},
          "output_type": "execute_result"
        }
      ],
      "source": [
        "taxi_data.tail()"
      ]
    },
    {
      "cell_type": "markdown",
      "metadata": {},
      "source": [
        "##### - uso de .dtypes para conocer el tipo de datos que utilizaremos y saber si hay que cambiar alguno por efecto de la EDA."
      ]
    },
    {
      "cell_type": "markdown",
      "metadata": {},
      "source": [
        "##### - Aseguramos que el tipo de dato en la columna 3 este correcto, siendo object conocido en este notebook, o string generalmente."
      ]
    },
    {
      "cell_type": "code",
      "execution_count": 7,
      "metadata": {},
      "outputs": [
        {
          "data": {
            "text/plain": [
              "VendorID                 float64\n",
              "lpep_pickup_datetime      object\n",
              "lpep_dropoff_datetime     object\n",
              "store_and_fwd_flag        object\n",
              "RatecodeID               float64\n",
              "PULocationID               int64\n",
              "DOLocationID               int64\n",
              "passenger_count          float64\n",
              "trip_distance            float64\n",
              "fare_amount              float64\n",
              "extra                    float64\n",
              "mta_tax                  float64\n",
              "tip_amount               float64\n",
              "tolls_amount             float64\n",
              "ehail_fee                float64\n",
              "improvement_surcharge    float64\n",
              "total_amount             float64\n",
              "payment_type             float64\n",
              "trip_type                float64\n",
              "congestion_surcharge     float64\n",
              "dtype: object"
            ]
          },
          "execution_count": 7,
          "metadata": {},
          "output_type": "execute_result"
        }
      ],
      "source": [
        "taxi_data.dtypes"
      ]
    },
    {
      "cell_type": "markdown",
      "metadata": {},
      "source": [
        "##### - En la columna payment_type, se debe reemplazar el NaN por el numero 6, ya que este significa que el viaje fue anulado; asi mismo cambiar de float a int, ya que son numeros enteros."
      ]
    },
    {
      "cell_type": "code",
      "execution_count": 8,
      "metadata": {},
      "outputs": [
        {
          "data": {
            "text/plain": [
              "83686    6\n",
              "83687    6\n",
              "83688    6\n",
              "83689    6\n",
              "83690    6\n",
              "Name: payment_type, dtype: int32"
            ]
          },
          "execution_count": 8,
          "metadata": {},
          "output_type": "execute_result"
        }
      ],
      "source": [
        "taxi_data[\"payment_type\"] = taxi_data[\"payment_type\"].fillna(6)\n",
        "taxi_data[\"payment_type\"] = taxi_data[\"payment_type\"].astype(int)\n",
        "taxi_data[\"payment_type\"].tail()"
      ]
    },
    {
      "cell_type": "markdown",
      "metadata": {},
      "source": [
        "##### - Columna numero 0,4,7 deben ser especificados a int para una mejora en el manejo de valores."
      ]
    },
    {
      "cell_type": "markdown",
      "metadata": {},
      "source": [
        "##### - Valor cambiado de NaN a 3 en la columna 0, aunque por el diccionario provisto no aparece nada, el 3 va a significar que el proveedor no especifica la compañia, por efectos de un mejor analisis de los datos."
      ]
    },
    {
      "cell_type": "code",
      "execution_count": 9,
      "metadata": {},
      "outputs": [
        {
          "data": {
            "text/plain": [
              "83686    3\n",
              "83687    3\n",
              "83688    3\n",
              "83689    3\n",
              "83690    3\n",
              "Name: VendorID, dtype: int32"
            ]
          },
          "execution_count": 9,
          "metadata": {},
          "output_type": "execute_result"
        }
      ],
      "source": [
        "taxi_data[\"VendorID\"] = taxi_data[\"VendorID\"].fillna(3)\n",
        "taxi_data[\"VendorID\"] = taxi_data[\"VendorID\"].astype(int)\n",
        "taxi_data[\"VendorID\"].tail()"
      ]
    },
    {
      "cell_type": "markdown",
      "metadata": {},
      "source": [
        "##### - Valor cambiado de NaN a 6 en la columna 4, el valor significaria que el viaje fue realizado en grupo."
      ]
    },
    {
      "cell_type": "code",
      "execution_count": 10,
      "metadata": {},
      "outputs": [
        {
          "data": {
            "text/plain": [
              "83686    6\n",
              "83687    6\n",
              "83688    6\n",
              "83689    6\n",
              "83690    6\n",
              "Name: RatecodeID, dtype: int32"
            ]
          },
          "execution_count": 10,
          "metadata": {},
          "output_type": "execute_result"
        }
      ],
      "source": [
        "taxi_data[\"RatecodeID\"] = taxi_data[\"RatecodeID\"].fillna(6)\n",
        "taxi_data[\"RatecodeID\"] = taxi_data[\"RatecodeID\"].astype(int)\n",
        "taxi_data[\"RatecodeID\"].tail()\n"
      ]
    },
    {
      "cell_type": "markdown",
      "metadata": {},
      "source": [
        "##### - Valor cambiado de NaN y 0 a 1 en la columna 7, ya que 1 es el minimo de pasajeros necesarios para poder realizar un viaje en taxi."
      ]
    },
    {
      "cell_type": "code",
      "execution_count": 11,
      "metadata": {},
      "outputs": [
        {
          "data": {
            "text/plain": [
              "0        1\n",
              "1        2\n",
              "2        1\n",
              "3        1\n",
              "4        1\n",
              "        ..\n",
              "83686    1\n",
              "83687    1\n",
              "83688    1\n",
              "83689    1\n",
              "83690    1\n",
              "Name: passenger_count, Length: 83691, dtype: int32"
            ]
          },
          "execution_count": 11,
          "metadata": {},
          "output_type": "execute_result"
        }
      ],
      "source": [
        "taxi_data[\"passenger_count\"] = taxi_data[\"passenger_count\"].replace(0, 1)\n",
        "taxi_data[\"passenger_count\"] = taxi_data[\"passenger_count\"].fillna(1)\n",
        "taxi_data[\"passenger_count\"] = taxi_data[\"passenger_count\"].astype(int)\n",
        "taxi_data[\"passenger_count\"]"
      ]
    },
    {
      "cell_type": "markdown",
      "metadata": {},
      "source": [
        "##### - Columnas 1 y 2 deben ser convertidas a formato datetime."
      ]
    },
    {
      "cell_type": "markdown",
      "metadata": {},
      "source": [
        "##### - Primero renombramos las dos columnas a un nombre un poco mas facil de manejar y recordar."
      ]
    },
    {
      "cell_type": "code",
      "execution_count": 12,
      "metadata": {},
      "outputs": [
        {
          "data": {
            "text/html": [
              "<div>\n",
              "<style scoped>\n",
              "    .dataframe tbody tr th:only-of-type {\n",
              "        vertical-align: middle;\n",
              "    }\n",
              "\n",
              "    .dataframe tbody tr th {\n",
              "        vertical-align: top;\n",
              "    }\n",
              "\n",
              "    .dataframe thead th {\n",
              "        text-align: right;\n",
              "    }\n",
              "</style>\n",
              "<table border=\"1\" class=\"dataframe\">\n",
              "  <thead>\n",
              "    <tr style=\"text-align: right;\">\n",
              "      <th></th>\n",
              "      <th>VendorID</th>\n",
              "      <th>pickup_datetime</th>\n",
              "      <th>dropoff_datetime</th>\n",
              "      <th>store_and_fwd_flag</th>\n",
              "      <th>RatecodeID</th>\n",
              "      <th>PULocationID</th>\n",
              "      <th>DOLocationID</th>\n",
              "      <th>passenger_count</th>\n",
              "      <th>trip_distance</th>\n",
              "      <th>fare_amount</th>\n",
              "      <th>extra</th>\n",
              "      <th>mta_tax</th>\n",
              "      <th>tip_amount</th>\n",
              "      <th>tolls_amount</th>\n",
              "      <th>ehail_fee</th>\n",
              "      <th>improvement_surcharge</th>\n",
              "      <th>total_amount</th>\n",
              "      <th>payment_type</th>\n",
              "      <th>trip_type</th>\n",
              "      <th>congestion_surcharge</th>\n",
              "    </tr>\n",
              "  </thead>\n",
              "  <tbody>\n",
              "    <tr>\n",
              "      <th>0</th>\n",
              "      <td>1</td>\n",
              "      <td>7/1/2021 0:30</td>\n",
              "      <td>7/1/2021 0:35</td>\n",
              "      <td>N</td>\n",
              "      <td>1</td>\n",
              "      <td>74</td>\n",
              "      <td>168</td>\n",
              "      <td>1</td>\n",
              "      <td>1.20</td>\n",
              "      <td>6.0</td>\n",
              "      <td>0.5</td>\n",
              "      <td>0.5</td>\n",
              "      <td>0.00</td>\n",
              "      <td>0.0</td>\n",
              "      <td>NaN</td>\n",
              "      <td>0.3</td>\n",
              "      <td>7.30</td>\n",
              "      <td>2</td>\n",
              "      <td>1.0</td>\n",
              "      <td>0.0</td>\n",
              "    </tr>\n",
              "    <tr>\n",
              "      <th>1</th>\n",
              "      <td>2</td>\n",
              "      <td>7/1/2021 0:25</td>\n",
              "      <td>7/1/2021 1:01</td>\n",
              "      <td>N</td>\n",
              "      <td>1</td>\n",
              "      <td>116</td>\n",
              "      <td>265</td>\n",
              "      <td>2</td>\n",
              "      <td>13.69</td>\n",
              "      <td>42.0</td>\n",
              "      <td>0.5</td>\n",
              "      <td>0.5</td>\n",
              "      <td>0.00</td>\n",
              "      <td>0.0</td>\n",
              "      <td>NaN</td>\n",
              "      <td>0.3</td>\n",
              "      <td>43.30</td>\n",
              "      <td>2</td>\n",
              "      <td>1.0</td>\n",
              "      <td>0.0</td>\n",
              "    </tr>\n",
              "    <tr>\n",
              "      <th>2</th>\n",
              "      <td>2</td>\n",
              "      <td>7/1/2021 0:05</td>\n",
              "      <td>7/1/2021 0:12</td>\n",
              "      <td>N</td>\n",
              "      <td>1</td>\n",
              "      <td>97</td>\n",
              "      <td>33</td>\n",
              "      <td>1</td>\n",
              "      <td>0.95</td>\n",
              "      <td>6.5</td>\n",
              "      <td>0.5</td>\n",
              "      <td>0.5</td>\n",
              "      <td>2.34</td>\n",
              "      <td>0.0</td>\n",
              "      <td>NaN</td>\n",
              "      <td>0.3</td>\n",
              "      <td>10.14</td>\n",
              "      <td>1</td>\n",
              "      <td>1.0</td>\n",
              "      <td>0.0</td>\n",
              "    </tr>\n",
              "    <tr>\n",
              "      <th>3</th>\n",
              "      <td>2</td>\n",
              "      <td>7/1/2021 0:41</td>\n",
              "      <td>7/1/2021 0:47</td>\n",
              "      <td>N</td>\n",
              "      <td>1</td>\n",
              "      <td>74</td>\n",
              "      <td>42</td>\n",
              "      <td>1</td>\n",
              "      <td>1.24</td>\n",
              "      <td>6.5</td>\n",
              "      <td>0.5</td>\n",
              "      <td>0.5</td>\n",
              "      <td>0.00</td>\n",
              "      <td>0.0</td>\n",
              "      <td>NaN</td>\n",
              "      <td>0.3</td>\n",
              "      <td>7.80</td>\n",
              "      <td>2</td>\n",
              "      <td>1.0</td>\n",
              "      <td>0.0</td>\n",
              "    </tr>\n",
              "    <tr>\n",
              "      <th>4</th>\n",
              "      <td>2</td>\n",
              "      <td>7/1/2021 0:51</td>\n",
              "      <td>7/1/2021 0:58</td>\n",
              "      <td>N</td>\n",
              "      <td>1</td>\n",
              "      <td>42</td>\n",
              "      <td>244</td>\n",
              "      <td>1</td>\n",
              "      <td>1.10</td>\n",
              "      <td>7.0</td>\n",
              "      <td>0.5</td>\n",
              "      <td>0.5</td>\n",
              "      <td>0.00</td>\n",
              "      <td>0.0</td>\n",
              "      <td>NaN</td>\n",
              "      <td>0.3</td>\n",
              "      <td>8.30</td>\n",
              "      <td>2</td>\n",
              "      <td>1.0</td>\n",
              "      <td>0.0</td>\n",
              "    </tr>\n",
              "  </tbody>\n",
              "</table>\n",
              "</div>"
            ],
            "text/plain": [
              "   VendorID pickup_datetime dropoff_datetime store_and_fwd_flag  RatecodeID  \\\n",
              "0         1   7/1/2021 0:30    7/1/2021 0:35                  N           1   \n",
              "1         2   7/1/2021 0:25    7/1/2021 1:01                  N           1   \n",
              "2         2   7/1/2021 0:05    7/1/2021 0:12                  N           1   \n",
              "3         2   7/1/2021 0:41    7/1/2021 0:47                  N           1   \n",
              "4         2   7/1/2021 0:51    7/1/2021 0:58                  N           1   \n",
              "\n",
              "   PULocationID  DOLocationID  passenger_count  trip_distance  fare_amount  \\\n",
              "0            74           168                1           1.20          6.0   \n",
              "1           116           265                2          13.69         42.0   \n",
              "2            97            33                1           0.95          6.5   \n",
              "3            74            42                1           1.24          6.5   \n",
              "4            42           244                1           1.10          7.0   \n",
              "\n",
              "   extra  mta_tax  tip_amount  tolls_amount  ehail_fee  improvement_surcharge  \\\n",
              "0    0.5      0.5        0.00           0.0        NaN                    0.3   \n",
              "1    0.5      0.5        0.00           0.0        NaN                    0.3   \n",
              "2    0.5      0.5        2.34           0.0        NaN                    0.3   \n",
              "3    0.5      0.5        0.00           0.0        NaN                    0.3   \n",
              "4    0.5      0.5        0.00           0.0        NaN                    0.3   \n",
              "\n",
              "   total_amount  payment_type  trip_type  congestion_surcharge  \n",
              "0          7.30             2        1.0                   0.0  \n",
              "1         43.30             2        1.0                   0.0  \n",
              "2         10.14             1        1.0                   0.0  \n",
              "3          7.80             2        1.0                   0.0  \n",
              "4          8.30             2        1.0                   0.0  "
            ]
          },
          "execution_count": 12,
          "metadata": {},
          "output_type": "execute_result"
        }
      ],
      "source": [
        "taxi_data = taxi_data.rename(columns={\"lpep_pickup_datetime\": \"pickup_datetime\"})\n",
        "taxi_data = taxi_data.rename(columns={\"lpep_dropoff_datetime\": \"dropoff_datetime\"})\n",
        "taxi_data.head()"
      ]
    },
    {
      "cell_type": "markdown",
      "metadata": {},
      "source": [
        "##### - Convertimos ambas columnas a formato de fechas para un mejor manejo."
      ]
    },
    {
      "cell_type": "code",
      "execution_count": 13,
      "metadata": {},
      "outputs": [
        {
          "data": {
            "text/plain": [
              "0       2021-07-01 00:30:00\n",
              "1       2021-07-01 00:25:00\n",
              "2       2021-07-01 00:05:00\n",
              "3       2021-07-01 00:41:00\n",
              "4       2021-07-01 00:51:00\n",
              "                ...        \n",
              "83686   2021-07-02 07:59:00\n",
              "83687   2021-07-02 07:02:00\n",
              "83688   2021-07-02 07:53:00\n",
              "83689   2021-07-02 07:58:00\n",
              "83690   2021-07-02 07:00:00\n",
              "Name: pickup_datetime, Length: 83691, dtype: datetime64[ns]"
            ]
          },
          "execution_count": 13,
          "metadata": {},
          "output_type": "execute_result"
        }
      ],
      "source": [
        "taxi_data[\"pickup_datetime\"] = pd.to_datetime(taxi_data[\"pickup_datetime\"])\n",
        "taxi_data[\"pickup_datetime\"]"
      ]
    },
    {
      "cell_type": "code",
      "execution_count": 14,
      "metadata": {},
      "outputs": [
        {
          "data": {
            "text/plain": [
              "0       2021-07-01 00:35:00\n",
              "1       2021-07-01 01:01:00\n",
              "2       2021-07-01 00:12:00\n",
              "3       2021-07-01 00:47:00\n",
              "4       2021-07-01 00:58:00\n",
              "                ...        \n",
              "83686   2021-07-02 08:33:00\n",
              "83687   2021-07-02 07:18:00\n",
              "83688   2021-07-02 08:15:00\n",
              "83689   2021-07-02 08:30:00\n",
              "83690   2021-07-02 07:26:00\n",
              "Name: dropoff_datetime, Length: 83691, dtype: datetime64[ns]"
            ]
          },
          "execution_count": 14,
          "metadata": {},
          "output_type": "execute_result"
        }
      ],
      "source": [
        "taxi_data[\"dropoff_datetime\"] = pd.to_datetime(taxi_data[\"dropoff_datetime\"])\n",
        "taxi_data[\"dropoff_datetime\"]"
      ]
    },
    {
      "cell_type": "code",
      "execution_count": 15,
      "metadata": {},
      "outputs": [
        {
          "data": {
            "text/html": [
              "<div>\n",
              "<style scoped>\n",
              "    .dataframe tbody tr th:only-of-type {\n",
              "        vertical-align: middle;\n",
              "    }\n",
              "\n",
              "    .dataframe tbody tr th {\n",
              "        vertical-align: top;\n",
              "    }\n",
              "\n",
              "    .dataframe thead th {\n",
              "        text-align: right;\n",
              "    }\n",
              "</style>\n",
              "<table border=\"1\" class=\"dataframe\">\n",
              "  <thead>\n",
              "    <tr style=\"text-align: right;\">\n",
              "      <th></th>\n",
              "      <th>VendorID</th>\n",
              "      <th>pickup_datetime</th>\n",
              "      <th>dropoff_datetime</th>\n",
              "      <th>store_and_fwd_flag</th>\n",
              "      <th>RatecodeID</th>\n",
              "      <th>PULocationID</th>\n",
              "      <th>DOLocationID</th>\n",
              "      <th>passenger_count</th>\n",
              "      <th>trip_distance</th>\n",
              "      <th>fare_amount</th>\n",
              "      <th>extra</th>\n",
              "      <th>mta_tax</th>\n",
              "      <th>tip_amount</th>\n",
              "      <th>tolls_amount</th>\n",
              "      <th>ehail_fee</th>\n",
              "      <th>improvement_surcharge</th>\n",
              "      <th>total_amount</th>\n",
              "      <th>payment_type</th>\n",
              "      <th>trip_type</th>\n",
              "      <th>congestion_surcharge</th>\n",
              "    </tr>\n",
              "  </thead>\n",
              "  <tbody>\n",
              "    <tr>\n",
              "      <th>0</th>\n",
              "      <td>1</td>\n",
              "      <td>2021-07-01 00:30:00</td>\n",
              "      <td>2021-07-01 00:35:00</td>\n",
              "      <td>N</td>\n",
              "      <td>1</td>\n",
              "      <td>74</td>\n",
              "      <td>168</td>\n",
              "      <td>1</td>\n",
              "      <td>1.20</td>\n",
              "      <td>6.0</td>\n",
              "      <td>0.5</td>\n",
              "      <td>0.5</td>\n",
              "      <td>0.00</td>\n",
              "      <td>0.0</td>\n",
              "      <td>NaN</td>\n",
              "      <td>0.3</td>\n",
              "      <td>7.30</td>\n",
              "      <td>2</td>\n",
              "      <td>1.0</td>\n",
              "      <td>0.0</td>\n",
              "    </tr>\n",
              "    <tr>\n",
              "      <th>1</th>\n",
              "      <td>2</td>\n",
              "      <td>2021-07-01 00:25:00</td>\n",
              "      <td>2021-07-01 01:01:00</td>\n",
              "      <td>N</td>\n",
              "      <td>1</td>\n",
              "      <td>116</td>\n",
              "      <td>265</td>\n",
              "      <td>2</td>\n",
              "      <td>13.69</td>\n",
              "      <td>42.0</td>\n",
              "      <td>0.5</td>\n",
              "      <td>0.5</td>\n",
              "      <td>0.00</td>\n",
              "      <td>0.0</td>\n",
              "      <td>NaN</td>\n",
              "      <td>0.3</td>\n",
              "      <td>43.30</td>\n",
              "      <td>2</td>\n",
              "      <td>1.0</td>\n",
              "      <td>0.0</td>\n",
              "    </tr>\n",
              "    <tr>\n",
              "      <th>2</th>\n",
              "      <td>2</td>\n",
              "      <td>2021-07-01 00:05:00</td>\n",
              "      <td>2021-07-01 00:12:00</td>\n",
              "      <td>N</td>\n",
              "      <td>1</td>\n",
              "      <td>97</td>\n",
              "      <td>33</td>\n",
              "      <td>1</td>\n",
              "      <td>0.95</td>\n",
              "      <td>6.5</td>\n",
              "      <td>0.5</td>\n",
              "      <td>0.5</td>\n",
              "      <td>2.34</td>\n",
              "      <td>0.0</td>\n",
              "      <td>NaN</td>\n",
              "      <td>0.3</td>\n",
              "      <td>10.14</td>\n",
              "      <td>1</td>\n",
              "      <td>1.0</td>\n",
              "      <td>0.0</td>\n",
              "    </tr>\n",
              "    <tr>\n",
              "      <th>3</th>\n",
              "      <td>2</td>\n",
              "      <td>2021-07-01 00:41:00</td>\n",
              "      <td>2021-07-01 00:47:00</td>\n",
              "      <td>N</td>\n",
              "      <td>1</td>\n",
              "      <td>74</td>\n",
              "      <td>42</td>\n",
              "      <td>1</td>\n",
              "      <td>1.24</td>\n",
              "      <td>6.5</td>\n",
              "      <td>0.5</td>\n",
              "      <td>0.5</td>\n",
              "      <td>0.00</td>\n",
              "      <td>0.0</td>\n",
              "      <td>NaN</td>\n",
              "      <td>0.3</td>\n",
              "      <td>7.80</td>\n",
              "      <td>2</td>\n",
              "      <td>1.0</td>\n",
              "      <td>0.0</td>\n",
              "    </tr>\n",
              "    <tr>\n",
              "      <th>4</th>\n",
              "      <td>2</td>\n",
              "      <td>2021-07-01 00:51:00</td>\n",
              "      <td>2021-07-01 00:58:00</td>\n",
              "      <td>N</td>\n",
              "      <td>1</td>\n",
              "      <td>42</td>\n",
              "      <td>244</td>\n",
              "      <td>1</td>\n",
              "      <td>1.10</td>\n",
              "      <td>7.0</td>\n",
              "      <td>0.5</td>\n",
              "      <td>0.5</td>\n",
              "      <td>0.00</td>\n",
              "      <td>0.0</td>\n",
              "      <td>NaN</td>\n",
              "      <td>0.3</td>\n",
              "      <td>8.30</td>\n",
              "      <td>2</td>\n",
              "      <td>1.0</td>\n",
              "      <td>0.0</td>\n",
              "    </tr>\n",
              "  </tbody>\n",
              "</table>\n",
              "</div>"
            ],
            "text/plain": [
              "   VendorID     pickup_datetime    dropoff_datetime store_and_fwd_flag  \\\n",
              "0         1 2021-07-01 00:30:00 2021-07-01 00:35:00                  N   \n",
              "1         2 2021-07-01 00:25:00 2021-07-01 01:01:00                  N   \n",
              "2         2 2021-07-01 00:05:00 2021-07-01 00:12:00                  N   \n",
              "3         2 2021-07-01 00:41:00 2021-07-01 00:47:00                  N   \n",
              "4         2 2021-07-01 00:51:00 2021-07-01 00:58:00                  N   \n",
              "\n",
              "   RatecodeID  PULocationID  DOLocationID  passenger_count  trip_distance  \\\n",
              "0           1            74           168                1           1.20   \n",
              "1           1           116           265                2          13.69   \n",
              "2           1            97            33                1           0.95   \n",
              "3           1            74            42                1           1.24   \n",
              "4           1            42           244                1           1.10   \n",
              "\n",
              "   fare_amount  extra  mta_tax  tip_amount  tolls_amount  ehail_fee  \\\n",
              "0          6.0    0.5      0.5        0.00           0.0        NaN   \n",
              "1         42.0    0.5      0.5        0.00           0.0        NaN   \n",
              "2          6.5    0.5      0.5        2.34           0.0        NaN   \n",
              "3          6.5    0.5      0.5        0.00           0.0        NaN   \n",
              "4          7.0    0.5      0.5        0.00           0.0        NaN   \n",
              "\n",
              "   improvement_surcharge  total_amount  payment_type  trip_type  \\\n",
              "0                    0.3          7.30             2        1.0   \n",
              "1                    0.3         43.30             2        1.0   \n",
              "2                    0.3         10.14             1        1.0   \n",
              "3                    0.3          7.80             2        1.0   \n",
              "4                    0.3          8.30             2        1.0   \n",
              "\n",
              "   congestion_surcharge  \n",
              "0                   0.0  \n",
              "1                   0.0  \n",
              "2                   0.0  \n",
              "3                   0.0  \n",
              "4                   0.0  "
            ]
          },
          "execution_count": 15,
          "metadata": {},
          "output_type": "execute_result"
        }
      ],
      "source": [
        "taxi_data.head()"
      ]
    },
    {
      "cell_type": "markdown",
      "metadata": {},
      "source": [
        "### Analisis semantico."
      ]
    },
    {
      "cell_type": "markdown",
      "metadata": {},
      "source": [
        "#### - 1. Que distancia recorrida por los taxis es la media, por vendor ID?"
      ]
    },
    {
      "cell_type": "code",
      "execution_count": 16,
      "metadata": {},
      "outputs": [
        {
          "data": {
            "text/html": [
              "<div>\n",
              "<style scoped>\n",
              "    .dataframe tbody tr th:only-of-type {\n",
              "        vertical-align: middle;\n",
              "    }\n",
              "\n",
              "    .dataframe tbody tr th {\n",
              "        vertical-align: top;\n",
              "    }\n",
              "\n",
              "    .dataframe thead th {\n",
              "        text-align: right;\n",
              "    }\n",
              "</style>\n",
              "<table border=\"1\" class=\"dataframe\">\n",
              "  <thead>\n",
              "    <tr style=\"text-align: right;\">\n",
              "      <th></th>\n",
              "      <th>trip_distance</th>\n",
              "    </tr>\n",
              "    <tr>\n",
              "      <th>VendorID</th>\n",
              "      <th></th>\n",
              "    </tr>\n",
              "  </thead>\n",
              "  <tbody>\n",
              "    <tr>\n",
              "      <th>1</th>\n",
              "      <td>2.585142</td>\n",
              "    </tr>\n",
              "    <tr>\n",
              "      <th>2</th>\n",
              "      <td>3.653278</td>\n",
              "    </tr>\n",
              "    <tr>\n",
              "      <th>3</th>\n",
              "      <td>494.708409</td>\n",
              "    </tr>\n",
              "  </tbody>\n",
              "</table>\n",
              "</div>"
            ],
            "text/plain": [
              "          trip_distance\n",
              "VendorID               \n",
              "1              2.585142\n",
              "2              3.653278\n",
              "3            494.708409"
            ]
          },
          "execution_count": 16,
          "metadata": {},
          "output_type": "execute_result"
        }
      ],
      "source": [
        "media_trip_distance = taxi_data[[\"trip_distance\", \"VendorID\"]].groupby(\"VendorID\").mean()\n",
        "media_trip_distance"
      ]
    },
    {
      "cell_type": "markdown",
      "metadata": {},
      "source": [
        "##### Como observacion luego de calcular esta media, podemos ver que para el numero 3, recordando que para efectos de un mejor analisis, el 3 significa que el proveedor no especifica la compañia; estos valores son demasiados altos."
      ]
    },
    {
      "cell_type": "markdown",
      "metadata": {},
      "source": [
        "##### para mantener un buen analisis del EDA, estos valores mayor de 100, se reemplazaran por la media de los valores del VendorID."
      ]
    },
    {
      "cell_type": "code",
      "execution_count": 17,
      "metadata": {},
      "outputs": [
        {
          "data": {
            "text/plain": [
              "22164.62"
            ]
          },
          "execution_count": 17,
          "metadata": {},
          "output_type": "execute_result"
        }
      ],
      "source": [
        "valor = taxi_data.loc[58348, \"trip_distance\"]\n",
        "valor"
      ]
    },
    {
      "cell_type": "markdown",
      "metadata": {},
      "source": [
        "##### Debemos filtrar la informacion, los vendorID que sean 3, y que sus valores en trip distance sean mayor a 100, y luego conocer que indices son los que contienen estos parametros dados."
      ]
    },
    {
      "cell_type": "code",
      "execution_count": 18,
      "metadata": {},
      "outputs": [
        {
          "data": {
            "text/plain": [
              "Index([51195, 51531, 51541, 51572, 51858, 52165, 52176, 52332, 52494, 52949,\n",
              "       ...\n",
              "       82787, 82950, 82976, 83170, 83206, 83256, 83274, 83354, 83449, 83602],\n",
              "      dtype='int64', length=227)"
            ]
          },
          "execution_count": 18,
          "metadata": {},
          "output_type": "execute_result"
        }
      ],
      "source": [
        "filtro = (taxi_data[\"VendorID\"] == 3) & (taxi_data[\"trip_distance\"]>100)\n",
        "filtro_indices = taxi_data[filtro].index\n",
        "filtro_indices"
      ]
    },
    {
      "cell_type": "markdown",
      "metadata": {},
      "source": [
        "##### Para un mejor manejo de datos, almacenamos en una variable los valores de la media para el 1 y 2 sacados anteriormente, esto con el fin de luego reemplazar los valores mayores a 100 en los valores 3 del VendorID"
      ]
    },
    {
      "cell_type": "code",
      "execution_count": 19,
      "metadata": {},
      "outputs": [],
      "source": [
        "media_vendorID1 = media_trip_distance.loc[1, \"trip_distance\"]\n",
        "media_vendorID2 = media_trip_distance.loc[2, \"trip_distance\"]"
      ]
    },
    {
      "cell_type": "markdown",
      "metadata": {},
      "source": [
        "##### Luego iteramos en cada indice y reemplazamos valores de forma random"
      ]
    },
    {
      "cell_type": "code",
      "execution_count": 20,
      "metadata": {},
      "outputs": [],
      "source": [
        "for index in filtro_indices:\n",
        "    taxi_data.loc[index,\"trip_distance\"] = np.random.choice([media_vendorID1, media_vendorID2])"
      ]
    },
    {
      "cell_type": "markdown",
      "metadata": {},
      "source": [
        "##### Luego de ser reemplazados, volvemos a sacar las medias y podemos ver una diferencia de media en el valor numero 3 de la columna VendorID"
      ]
    },
    {
      "cell_type": "markdown",
      "metadata": {},
      "source": [
        "##### - 1 = Creative Mobile Technologies, LLC. - 2 = VeriFone INC. - 3. No specific.\n"
      ]
    },
    {
      "cell_type": "code",
      "execution_count": 21,
      "metadata": {},
      "outputs": [
        {
          "data": {
            "text/html": [
              "<div>\n",
              "<style scoped>\n",
              "    .dataframe tbody tr th:only-of-type {\n",
              "        vertical-align: middle;\n",
              "    }\n",
              "\n",
              "    .dataframe tbody tr th {\n",
              "        vertical-align: top;\n",
              "    }\n",
              "\n",
              "    .dataframe thead th {\n",
              "        text-align: right;\n",
              "    }\n",
              "</style>\n",
              "<table border=\"1\" class=\"dataframe\">\n",
              "  <thead>\n",
              "    <tr style=\"text-align: right;\">\n",
              "      <th></th>\n",
              "      <th>trip_distance</th>\n",
              "    </tr>\n",
              "    <tr>\n",
              "      <th>VendorID</th>\n",
              "      <th></th>\n",
              "    </tr>\n",
              "  </thead>\n",
              "  <tbody>\n",
              "    <tr>\n",
              "      <th>1</th>\n",
              "      <td>2.585142</td>\n",
              "    </tr>\n",
              "    <tr>\n",
              "      <th>2</th>\n",
              "      <td>3.653278</td>\n",
              "    </tr>\n",
              "    <tr>\n",
              "      <th>3</th>\n",
              "      <td>6.711467</td>\n",
              "    </tr>\n",
              "  </tbody>\n",
              "</table>\n",
              "</div>"
            ],
            "text/plain": [
              "          trip_distance\n",
              "VendorID               \n",
              "1              2.585142\n",
              "2              3.653278\n",
              "3              6.711467"
            ]
          },
          "execution_count": 21,
          "metadata": {},
          "output_type": "execute_result"
        }
      ],
      "source": [
        "media_trip_distance = taxi_data[[\"trip_distance\", \"VendorID\"]].groupby(\"VendorID\").mean()\n",
        "media_trip_distance"
      ]
    },
    {
      "cell_type": "markdown",
      "metadata": {},
      "source": [
        "##### - Visualizacion del dato por medio de un grafico de barras."
      ]
    },
    {
      "cell_type": "code",
      "execution_count": 22,
      "metadata": {},
      "outputs": [
        {
          "data": {
            "image/png": "[encoded data removed]",
            "text/plain": [
              "<Figure size 640x480 with 1 Axes>"
            ]
          },
          "metadata": {},
          "output_type": "display_data"
        }
      ],
      "source": [
        "media_trip_distance.plot.bar(color=\"green\")\n",
        "\n",
        "plt.xlabel(\"Tipos de proveedores por Vendor ID\");\n",
        "\n",
        "plt.ylabel(\"Distancia media recorrida en millas\");"
      ]
    },
    {
      "cell_type": "markdown",
      "metadata": {},
      "source": [
        "##### - El numero 3, osea, no especifico fue el que realizo una mayor distancia en millas en promedio."
      ]
    },
    {
      "cell_type": "markdown",
      "metadata": {},
      "source": [
        "#### 2. Que tipo de pago es el mas utilizado?"
      ]
    },
    {
      "cell_type": "markdown",
      "metadata": {},
      "source": [
        "##### Tener en cuenta que para tipo de pagos nada mas, por tarjeta de credito y cash, obviando los 4 otros tipos, sin cargo, disputa, desconocido, y viaje anulado.\n",
        "\n",
        "##### Numero 1 es tarjeta de credito o debito, y numero 2 seria cash."
      ]
    },
    {
      "cell_type": "code",
      "execution_count": 23,
      "metadata": {},
      "outputs": [
        {
          "name": "stdout",
          "output_type": "stream",
          "text": [
            "El tipo de pago mas usado es el: 1\n"
          ]
        }
      ],
      "source": [
        "payment = (taxi_data[\"payment_type\"] == 1) | (taxi_data[\"payment_type\"] == 2)\n",
        "used_payment_count = taxi_data[payment][\"payment_type\"].value_counts()\n",
        "most_used_payment = used_payment_count.idxmax()\n",
        "print (\"El tipo de pago mas usado es el:\", most_used_payment)"
      ]
    },
    {
      "cell_type": "markdown",
      "metadata": {},
      "source": [
        "##### - Realizando una grafica de barras para representar que tipo de pago fue el mas usado por los pasajeros."
      ]
    },
    {
      "cell_type": "code",
      "execution_count": 38,
      "metadata": {},
      "outputs": [
        {
          "data": {
            "image/png": "[encoded data removed]",
            "text/plain": [
              "<Figure size 200x300 with 1 Axes>"
            ]
          },
          "metadata": {},
          "output_type": "display_data"
        }
      ],
      "source": [
        "plt.figure(figsize=(2, 3))\n",
        "plt.bar(used_payment_count.index, used_payment_count.values)\n",
        "plt.title('Tipo de pago más usado entre 1 y 2')\n",
        "plt.xlabel('Tipo de pago')\n",
        "plt.ylabel('Total de pagos')\n",
        "plt.show()"
      ]
    },
    {
      "cell_type": "markdown",
      "metadata": {},
      "source": [
        "#### 3. Cual es el valor total en propinas?"
      ]
    },
    {
      "cell_type": "markdown",
      "metadata": {},
      "source": [
        "##### Tener en cuenta que la contabilizacion de las propinas son en base a las tarjetas de credito o debito, el cash no se toma en cuenta.\n",
        "\n",
        "##### El dataframe contiene valores negativos, asi que estos seran obviados."
      ]
    },
    {
      "cell_type": "code",
      "execution_count": 25,
      "metadata": {},
      "outputs": [
        {
          "name": "stdout",
          "output_type": "stream",
          "text": [
            "El valor total en propinas es de: $88607.55 dolares\n"
          ]
        }
      ],
      "source": [
        "no_neg_amount = taxi_data[\"tip_amount\"] > 0\n",
        "total_tip = taxi_data[no_neg_amount][\"tip_amount\"].sum()\n",
        "print(f\"El valor total en propinas es de: ${round(total_tip, 2)} dolares\")"
      ]
    },
    {
      "cell_type": "markdown",
      "metadata": {},
      "source": [
        "#### 4. Cual es la media de pasajeros por viaje?"
      ]
    },
    {
      "cell_type": "markdown",
      "metadata": {},
      "source": [
        "##### - Esta media significa que la cantidad promedio de pasajeros por cada viaje es de una persona, es mas comun que en New York las personas viajen solas."
      ]
    },
    {
      "cell_type": "code",
      "execution_count": 26,
      "metadata": {},
      "outputs": [
        {
          "name": "stdout",
          "output_type": "stream",
          "text": [
            "La media de pasajeros por cada viaje es de: 1.19 pasajeros\n"
          ]
        }
      ],
      "source": [
        "media_pasajeros_viaje = taxi_data[\"passenger_count\"].mean()\n",
        "print(f\"La media de pasajeros por cada viaje es de: {round(media_pasajeros_viaje, 2)} pasajeros\")"
      ]
    },
    {
      "cell_type": "markdown",
      "metadata": {},
      "source": [
        "#### 5. Que proveedor realizo mas viajes?"
      ]
    },
    {
      "cell_type": "markdown",
      "metadata": {},
      "source": [
        "##### - 1 = Creative Mobile Technologies, LLC.\n",
        "##### - 2 = VeriFone INC.\n",
        "##### - 3 = No especifico."
      ]
    },
    {
      "cell_type": "code",
      "execution_count": 27,
      "metadata": {},
      "outputs": [
        {
          "data": {
            "text/plain": [
              "VendorID\n",
              "1     7619\n",
              "2    43554\n",
              "3    32518\n",
              "Name: count, dtype: int64"
            ]
          },
          "execution_count": 27,
          "metadata": {},
          "output_type": "execute_result"
        }
      ],
      "source": [
        "vendor_counts = taxi_data.VendorID.value_counts()\n",
        "vendor_counts.reindex([1,2,3])"
      ]
    },
    {
      "cell_type": "markdown",
      "metadata": {},
      "source": [
        "##### - Grafica de pie para representar y valorar el total de viajes realizados por el tipo de proveedor por su VendorID."
      ]
    },
    {
      "cell_type": "code",
      "execution_count": 28,
      "metadata": {},
      "outputs": [
        {
          "data": {
            "image/png": "[encoded data removed]",
            "text/plain": [
              "<Figure size 400x400 with 1 Axes>"
            ]
          },
          "metadata": {},
          "output_type": "display_data"
        }
      ],
      "source": [
        "plt.figure(figsize=(4,4))\n",
        "wedges, texts, autotexts = plt.pie(vendor_counts, autopct='%1.1f%%', startangle=140)\n",
        "plt.legend(wedges, [\"2: VeriFone INC.\",\n",
        "                \"3: No especifico\",\n",
        "                \"1: Creative Mobile Technologies, LLC.\"],\n",
        "        title=\"Proveedor\",\n",
        "        bbox_to_anchor=(1, 0, 0.5, 1))\n",
        "plt.setp(autotexts, size = 8, weight=\"bold\")\n",
        "plt.title('Proveedor que realizo mas viajes')\n",
        "plt.show()"
      ]
    },
    {
      "cell_type": "markdown",
      "metadata": {},
      "source": [
        "##### - El proveedor que mas viajes realizo fue 2 = VeriFone INC."
      ]
    },
    {
      "cell_type": "markdown",
      "metadata": {},
      "source": [
        "#### 6. De todos los viajes realizados, cual es el que tiene la mayor duracion?"
      ]
    },
    {
      "cell_type": "markdown",
      "metadata": {},
      "source": [
        "##### - Utilizando los tipos de datos datetime; agregamos una nueva columna llamada DuracionViajes, al realizar la resta."
      ]
    },
    {
      "cell_type": "code",
      "execution_count": 29,
      "metadata": {},
      "outputs": [
        {
          "data": {
            "text/plain": [
              "0   0 days 00:05:00\n",
              "1   0 days 00:36:00\n",
              "2   0 days 00:07:00\n",
              "3   0 days 00:06:00\n",
              "4   0 days 00:07:00\n",
              "Name: DuracionViajes, dtype: timedelta64[ns]"
            ]
          },
          "execution_count": 29,
          "metadata": {},
          "output_type": "execute_result"
        }
      ],
      "source": [
        "taxi_data[\"DuracionViajes\"] = taxi_data[\"dropoff_datetime\"] - taxi_data[\"pickup_datetime\"]\n",
        "taxi_data[\"DuracionViajes\"].head()"
      ]
    },
    {
      "cell_type": "markdown",
      "metadata": {},
      "source": [
        "##### - Tendremos que realizar una division y usar np.timedelta64(1, 'm'), para poder obtener la duracion en minutos y no en nanosegundos a como lo plantea la resta anterior y asi poder obtener los resultados deseados."
      ]
    },
    {
      "cell_type": "code",
      "execution_count": 30,
      "metadata": {},
      "outputs": [
        {
          "data": {
            "text/plain": [
              "0         5\n",
              "1        36\n",
              "2         7\n",
              "3         6\n",
              "4         7\n",
              "         ..\n",
              "83686    34\n",
              "83687    16\n",
              "83688    22\n",
              "83689    32\n",
              "83690    26\n",
              "Name: Duracion_minutos, Length: 83691, dtype: int32"
            ]
          },
          "execution_count": 30,
          "metadata": {},
          "output_type": "execute_result"
        }
      ],
      "source": [
        "taxi_data[\"Duracion_minutos\"] = taxi_data[\"DuracionViajes\"] / np.timedelta64(1, 'm')\n",
        "taxi_data.Duracion_minutos.astype(int)"
      ]
    },
    {
      "cell_type": "markdown",
      "metadata": {},
      "source": [
        "##### - Realizando la resta de la hora en que el viaje finalizo a la hora que el viaje inicio, obtendremos la duracion del viaje ya en minutos, el cual agregamos una nueva columna al dataset."
      ]
    },
    {
      "cell_type": "markdown",
      "metadata": {},
      "source": [
        "##### - Al buscar duracion de viajes con duraciones prolongadas, veremos resultados de hasta 1439 minutos, el cual serian 23 horas y 59 minutos, no tendria logica, busquemos primero en donde se encuentran esos valores."
      ]
    },
    {
      "cell_type": "code",
      "execution_count": 31,
      "metadata": {},
      "outputs": [
        {
          "data": {
            "text/plain": [
              "1439.0"
            ]
          },
          "execution_count": 31,
          "metadata": {},
          "output_type": "execute_result"
        }
      ],
      "source": [
        "taxi_data.Duracion_minutos.max()"
      ]
    },
    {
      "cell_type": "markdown",
      "metadata": {},
      "source": [
        "##### - Al realizar una busqueda de duracion de viajes prolongados, vamos a poner un valor estandar realista a buscar mayor de 150 minutos (2 horas 30 min), podemos observar 345 coincidencias; si lo comparamos, la duracion vs el trip distance, que este esta en millas, no hay logica por ejemplo en el index 79310, que por 4.08 millas dure mas de 150 min.\n",
        "\n",
        "##### - Por esta razon, los valores a tomar en cuenta para contestar esta pregunta, lo delimitaremos a valores menores de 150 min."
      ]
    },
    {
      "cell_type": "code",
      "execution_count": 32,
      "metadata": {},
      "outputs": [
        {
          "name": "stdout",
          "output_type": "stream",
          "text": [
            "       VendorID     pickup_datetime    dropoff_datetime store_and_fwd_flag  \\\n",
            "70            2 2021-07-01 06:28:00 2021-07-02 06:17:00                  N   \n",
            "115           2 2021-07-01 06:53:00 2021-07-02 06:41:00                  N   \n",
            "359           1 2021-07-01 09:49:00 2021-07-01 15:19:00                  N   \n",
            "364           2 2021-07-01 09:27:00 2021-07-02 00:00:00                  N   \n",
            "392           2 2021-07-01 09:47:00 2021-07-01 13:10:00                  N   \n",
            "...         ...                 ...                 ...                ...   \n",
            "76585         3 2021-07-27 11:04:00 2021-07-28 10:57:00                NaN   \n",
            "77778         3 2021-07-14 15:12:00 2021-07-15 15:06:00                NaN   \n",
            "77817         3 2021-07-08 14:53:00 2021-07-08 19:33:00                NaN   \n",
            "79310         3 2021-07-08 15:25:00 2021-07-08 19:03:00                NaN   \n",
            "80855         3 2021-07-08 16:02:00 2021-07-08 19:07:00                NaN   \n",
            "\n",
            "       RatecodeID  PULocationID  DOLocationID  passenger_count  trip_distance  \\\n",
            "70              1           169            28                1          15.63   \n",
            "115             1           136           130                1          19.68   \n",
            "359             5            82           129                1          37.60   \n",
            "364             1           130            18                1          15.84   \n",
            "392             1           160           264                1           4.97   \n",
            "...           ...           ...           ...              ...            ...   \n",
            "76585           6            47            31                1          98.49   \n",
            "77778           6           131            95                1           0.36   \n",
            "77817           6            69            20                1           3.85   \n",
            "79310           6           265           125                1           4.08   \n",
            "80855           6           209           241                1           0.00   \n",
            "\n",
            "       fare_amount  ...  tip_amount  tolls_amount  ehail_fee  \\\n",
            "70           52.00  ...         0.0          6.55        NaN   \n",
            "115          60.00  ...         0.0          6.55        NaN   \n",
            "359           0.00  ...         0.0          0.00        NaN   \n",
            "364          50.50  ...         0.0          6.55        NaN   \n",
            "392         107.50  ...         0.0          0.00        NaN   \n",
            "...            ...  ...         ...           ...        ...   \n",
            "76585        40.77  ...         0.0          0.00        NaN   \n",
            "77778        23.99  ...         0.0          0.00        NaN   \n",
            "77817        23.21  ...         0.0          0.00        NaN   \n",
            "79310        51.46  ...        12.7          0.00        NaN   \n",
            "80855        53.59  ...         0.0          0.00        NaN   \n",
            "\n",
            "       improvement_surcharge  total_amount  payment_type  trip_type  \\\n",
            "70                       0.3         59.35             1        1.0   \n",
            "115                      0.3         67.35             1        1.0   \n",
            "359                      0.0          0.00             2        2.0   \n",
            "364                      0.3         57.85             1        1.0   \n",
            "392                      0.3        108.30             2        1.0   \n",
            "...                      ...           ...           ...        ...   \n",
            "76585                    0.3         43.82             6        NaN   \n",
            "77778                    0.3         27.04             6        NaN   \n",
            "77817                    0.3         26.26             6        NaN   \n",
            "79310                    0.3         67.21             6        NaN   \n",
            "80855                    0.3         56.64             6        NaN   \n",
            "\n",
            "       congestion_surcharge  DuracionViajes  Duracion_minutos  \n",
            "70                      0.0 0 days 23:49:00            1429.0  \n",
            "115                     0.0 0 days 23:48:00            1428.0  \n",
            "359                     0.0 0 days 05:30:00             330.0  \n",
            "364                     0.0 0 days 14:33:00             873.0  \n",
            "392                     0.0 0 days 03:23:00             203.0  \n",
            "...                     ...             ...               ...  \n",
            "76585                   NaN 0 days 23:53:00            1433.0  \n",
            "77778                   NaN 0 days 23:54:00            1434.0  \n",
            "77817                   NaN 0 days 04:40:00             280.0  \n",
            "79310                   NaN 0 days 03:38:00             218.0  \n",
            "80855                   NaN 0 days 03:05:00             185.0  \n",
            "\n",
            "[345 rows x 22 columns]\n"
          ]
        }
      ],
      "source": [
        "valorbuscar = 150.00\n",
        "filaconvalor = taxi_data.loc[taxi_data[\"Duracion_minutos\"] > valorbuscar]\n",
        "print(filaconvalor)"
      ]
    },
    {
      "cell_type": "markdown",
      "metadata": {},
      "source": [
        "##### - Aca obtenemos la cantidad de valores con que trabajaremos.\n",
        "\n",
        "##### - Y obtenemos 83,346 valores."
      ]
    },
    {
      "cell_type": "code",
      "execution_count": 33,
      "metadata": {},
      "outputs": [
        {
          "name": "stdout",
          "output_type": "stream",
          "text": [
            "       VendorID     pickup_datetime    dropoff_datetime store_and_fwd_flag  \\\n",
            "0             1 2021-07-01 00:30:00 2021-07-01 00:35:00                  N   \n",
            "1             2 2021-07-01 00:25:00 2021-07-01 01:01:00                  N   \n",
            "2             2 2021-07-01 00:05:00 2021-07-01 00:12:00                  N   \n",
            "3             2 2021-07-01 00:41:00 2021-07-01 00:47:00                  N   \n",
            "4             2 2021-07-01 00:51:00 2021-07-01 00:58:00                  N   \n",
            "...         ...                 ...                 ...                ...   \n",
            "83686         3 2021-07-02 07:59:00 2021-07-02 08:33:00                NaN   \n",
            "83687         3 2021-07-02 07:02:00 2021-07-02 07:18:00                NaN   \n",
            "83688         3 2021-07-02 07:53:00 2021-07-02 08:15:00                NaN   \n",
            "83689         3 2021-07-02 07:58:00 2021-07-02 08:30:00                NaN   \n",
            "83690         3 2021-07-02 07:00:00 2021-07-02 07:26:00                NaN   \n",
            "\n",
            "       RatecodeID  PULocationID  DOLocationID  passenger_count  trip_distance  \\\n",
            "0               1            74           168                1           1.20   \n",
            "1               1           116           265                2          13.69   \n",
            "2               1            97            33                1           0.95   \n",
            "3               1            74            42                1           1.24   \n",
            "4               1            42           244                1           1.10   \n",
            "...           ...           ...           ...              ...            ...   \n",
            "83686           6           218           169                1          18.04   \n",
            "83687           6            74           137                1           5.56   \n",
            "83688           6            69            75                1           5.13   \n",
            "83689           6           117            82                1          12.58   \n",
            "83690           6           218           196                1          11.32   \n",
            "\n",
            "       fare_amount  ...  tip_amount  tolls_amount  ehail_fee  \\\n",
            "0             6.00  ...        0.00          0.00        NaN   \n",
            "1            42.00  ...        0.00          0.00        NaN   \n",
            "2             6.50  ...        2.34          0.00        NaN   \n",
            "3             6.50  ...        0.00          0.00        NaN   \n",
            "4             7.00  ...        0.00          0.00        NaN   \n",
            "...            ...  ...         ...           ...        ...   \n",
            "83686        50.24  ...        0.00          6.55        NaN   \n",
            "83687        19.16  ...        3.66          0.00        NaN   \n",
            "83688        22.45  ...        0.00          0.00        NaN   \n",
            "83689        48.62  ...        0.00          2.45        NaN   \n",
            "83690        45.84  ...        0.00          0.00        NaN   \n",
            "\n",
            "       improvement_surcharge  total_amount  payment_type  trip_type  \\\n",
            "0                        0.3          7.30             2        1.0   \n",
            "1                        0.3         43.30             2        1.0   \n",
            "2                        0.3         10.14             1        1.0   \n",
            "3                        0.3          7.80             2        1.0   \n",
            "4                        0.3          8.30             2        1.0   \n",
            "...                      ...           ...           ...        ...   \n",
            "83686                    0.3         59.84             6        NaN   \n",
            "83687                    0.3         25.87             6        NaN   \n",
            "83688                    0.3         22.75             6        NaN   \n",
            "83689                    0.3         54.12             6        NaN   \n",
            "83690                    0.3         48.89             6        NaN   \n",
            "\n",
            "       congestion_surcharge  DuracionViajes  Duracion_minutos  \n",
            "0                       0.0 0 days 00:05:00               5.0  \n",
            "1                       0.0 0 days 00:36:00              36.0  \n",
            "2                       0.0 0 days 00:07:00               7.0  \n",
            "3                       0.0 0 days 00:06:00               6.0  \n",
            "4                       0.0 0 days 00:07:00               7.0  \n",
            "...                     ...             ...               ...  \n",
            "83686                   NaN 0 days 00:34:00              34.0  \n",
            "83687                   NaN 0 days 00:16:00              16.0  \n",
            "83688                   NaN 0 days 00:22:00              22.0  \n",
            "83689                   NaN 0 days 00:32:00              32.0  \n",
            "83690                   NaN 0 days 00:26:00              26.0  \n",
            "\n",
            "[83346 rows x 22 columns]\n"
          ]
        }
      ],
      "source": [
        "valor_buscar = 150.00\n",
        "fila_con_valor = taxi_data.loc[taxi_data[\"Duracion_minutos\"] < valor_buscar]\n",
        "print(fila_con_valor)"
      ]
    },
    {
      "cell_type": "markdown",
      "metadata": {},
      "source": [
        "##### - La maxima duracion de un viaje es de 149 minutos (2 horas 29 minutos)"
      ]
    },
    {
      "cell_type": "code",
      "execution_count": 34,
      "metadata": {},
      "outputs": [
        {
          "data": {
            "text/plain": [
              "149.0"
            ]
          },
          "execution_count": 34,
          "metadata": {},
          "output_type": "execute_result"
        }
      ],
      "source": [
        "fila_con_valor[\"Duracion_minutos\"].max()"
      ]
    },
    {
      "cell_type": "markdown",
      "metadata": {},
      "source": [
        "##### - Por un mejor analisis del resultado obtenido, el codigo escrito refleja en mayor detalle y justifica porque ese viaje duro esa cantidad de tiempo; y esto se puede verificar comparandolo con la distancia recorrida en la columna llamada trip_distance."
      ]
    },
    {
      "cell_type": "code",
      "execution_count": 35,
      "metadata": {},
      "outputs": [
        {
          "name": "stdout",
          "output_type": "stream",
          "text": [
            "       VendorID     pickup_datetime    dropoff_datetime store_and_fwd_flag  \\\n",
            "26455         2 2021-07-16 18:52:00 2021-07-16 21:21:00                  N   \n",
            "\n",
            "       RatecodeID  PULocationID  DOLocationID  passenger_count  trip_distance  \\\n",
            "26455           4           252           265                1         109.87   \n",
            "\n",
            "       fare_amount  ...  tip_amount  tolls_amount  ehail_fee  \\\n",
            "26455        359.5  ...       73.57          6.55        NaN   \n",
            "\n",
            "       improvement_surcharge  total_amount  payment_type  trip_type  \\\n",
            "26455                    0.3        443.37             1        1.0   \n",
            "\n",
            "       congestion_surcharge  DuracionViajes  Duracion_minutos  \n",
            "26455                   0.0 0 days 02:29:00             149.0  \n",
            "\n",
            "[1 rows x 22 columns]\n"
          ]
        }
      ],
      "source": [
        "valorbuscar = 149.00\n",
        "filaconvalor = taxi_data.loc[taxi_data[\"Duracion_minutos\"] == valorbuscar]\n",
        "print(filaconvalor)"
      ]
    },
    {
      "cell_type": "markdown",
      "metadata": {},
      "source": [
        "## CONCLUSIONES.\n",
        "\n",
        "##### 1. La identificacion de los proveedores, a la par de la cantidad de datos recolectados, fue muy poco confiable; un 38.9% es no especifico, quiere decir que no se identifica el nombre del proveedor, no se puede saber por ejemplo que proveedor es el que realiza mas viajes anualmente.\n",
        "##### 2. Poder localizar las zonas geograficas en donde mas se realizan viajes serian un punto importante a mejorar a un futuro analisis, para asi poder brindar terminales o puestos en donde los taxis esten mas presentes durante el dia y en ciertos casos poder armar un mapa de calor.\n",
        "##### 3. Este ultimo punto va de la mano de la segunda conclusion, en tiempos actuales existen varias posibilidades de estar y seguir conectado a la red, es por eso que taximetros pueden ser actualizados para que siempre esten monitoreando el viaje, asi poder saber la hora de recogida y bajada del pasajero y no tener datos erroneos, en los que inician en un dia y terminan en otro, u otro ejemplo que no pueden almacenar correctamente la distancia recorrida.\n",
        "\n",
        "##### - Como conclusion en general y un punto de vista analitico, actualizar taximetros y hacer una interfaz mas intuitiva tanto para el pasajero como el conductor es la mejor opcion para que el uso de taxis siga en funcionamiento y que plataformas de la competencia no acaparen en su totalidad este sector, y poder asi los taxis seguir en funcionamiento, ya sea creando una alianza junto con las plataformas y crear horarios para los dos tipos de servicios o zonas geograficas en donde uno de los dos pueda brindar el servicio correspondiente."
      ]
    },
    {
      "cell_type": "markdown",
      "metadata": {},
      "source": []
    }
  ],
  "metadata": {
    "colab": {
      "provenance": []
    },
    "kernelspec": {
      "display_name": "Python 3",
      "name": "python3"
    },
    "language_info": {
      "codemirror_mode": {
        "name": "ipython",
        "version": 3
      },
      "file_extension": ".py",
      "mimetype": "text/x-python",
      "name": "python",
      "nbconvert_exporter": "python",
      "pygments_lexer": "ipython3",
      "version": "3.12.3"
    }
  },
  "nbformat": 4,
  "nbformat_minor": 0
}
